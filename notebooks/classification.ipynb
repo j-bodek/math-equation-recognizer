{
 "cells": [
  {
   "cell_type": "code",
   "execution_count": 18,
   "id": "ecdd9bd7-65f0-4567-bb2c-bc73120564e4",
   "metadata": {},
   "outputs": [],
   "source": [
    "# imports for array-handling and plotting\n",
    "import numpy as np\n",
    "import matplotlib.pyplot as plt\n",
    "import os\n",
    "import cv2\n",
    "\n",
    "import os\n",
    "import numpy as np\n",
    "import keras\n",
    "from keras import layers\n",
    "import matplotlib.pyplot as plt\n",
    "from keras.models import Sequential, load_model\n",
    "from keras.layers import Dense, Dropout, Activation\n",
    "from keras.utils import to_categorical "
   ]
  },
  {
   "cell_type": "code",
   "execution_count": 19,
   "id": "461aa5c6-d329-4bcb-82b3-63b8cf886264",
   "metadata": {},
   "outputs": [],
   "source": [
    "classes = {'*': 0, '+': 1, '-': 2, '/': 3, '0': 4, '1': 5, '2': 6, '3': 7, '4': 8, '5': 9, '6': 10, '7': 11, '8': 12, '9': 13, '=': 14}\n",
    "rev_classes = {v:k for k, v in classes.items()}"
   ]
  },
  {
   "cell_type": "code",
   "execution_count": 40,
   "id": "24abaccc-7551-4640-8048-d9df1898f2a5",
   "metadata": {},
   "outputs": [],
   "source": [
    "def load_dataset(_type):\n",
    "    imgs, targets = [], []\n",
    "    symbols = {\"div\":\"/\", \"mul\":\"*\",\"eq\":\"=\", \"sub\":\"-\", \"add\":\"+\"}\n",
    "    size = (28, 28)\n",
    "\n",
    "    data_dir = f\"../data/{_type}\"\n",
    "    if not os.path.isdir(data_dir):\n",
    "        raise Exception(f\"'{data_dir}' does not exist. Current dirrectory: {os.getcwd()}\")\n",
    "    \n",
    "    for parent, dirs, files in os.walk(data_dir):\n",
    "        if not '/' in parent:\n",
    "            continue\n",
    "            \n",
    "        _, target = parent.rsplit(\"/\", 1)\n",
    "        if not target.isdigit() and target not in symbols:\n",
    "            continue\n",
    "    \n",
    "        for file in files:\n",
    "            im = cv2.imread(os.path.join(parent, file))\n",
    "            if im is None:\n",
    "                continue\n",
    "                \n",
    "            im = cv2.resize(im, dsize=size, interpolation=cv2.INTER_CUBIC)\n",
    "            im = cv2.cvtColor(im, cv2.COLOR_BGR2GRAY)\n",
    "                \n",
    "            imgs.append(im)\n",
    "            targets.append(classes[symbols.get(target, target)])\n",
    "\n",
    "    X = np.asarray(imgs, dtype=\"float32\")\n",
    "    Y = np.asarray(targets, dtype=\"uint8\")\n",
    "    return X, Y\n",
    "            "
   ]
  },
  {
   "cell_type": "code",
   "execution_count": 41,
   "id": "6955593e-a402-4954-a0a5-7c96b41400c0",
   "metadata": {},
   "outputs": [],
   "source": [
    "X_train, y_train = load_dataset(\"train\")\n",
    "X_test, y_test = load_dataset(\"test\")"
   ]
  },
  {
   "cell_type": "code",
   "execution_count": 42,
   "id": "04e10eac-f724-4358-905e-269ec235d6b6",
   "metadata": {},
   "outputs": [
    {
     "name": "stdout",
     "output_type": "stream",
     "text": [
      "(42749, 28, 28) (42749,)\n"
     ]
    }
   ],
   "source": [
    "print(X_train.shape, y_train.shape)"
   ]
  },
  {
   "cell_type": "code",
   "execution_count": 43,
   "id": "1d3c9009-dac2-40f3-b156-5818924c72eb",
   "metadata": {},
   "outputs": [
    {
     "data": {
      "image/png": "[encoded data removed]",
      "text/plain": [
       "<Figure size 640x480 with 9 Axes>"
      ]
     },
     "execution_count": 43,
     "metadata": {},
     "output_type": "execute_result"
    },
    {
     "data": {
      "image/png": "[encoded data removed]",
      "text/plain": [
       "<Figure size 640x480 with 9 Axes>"
      ]
     },
     "metadata": {},
     "output_type": "display_data"
    }
   ],
   "source": [
    "fig = plt.figure()\n",
    "for i in range(9):\n",
    "    \n",
    "    plt.subplot(3,3,i+1)\n",
    "    plt.tight_layout()\n",
    "    plt.imshow(X_train[i], cmap='gray', interpolation='none')\n",
    "    plt.title(\"Digit: {}\".format(rev_classes[int(y_train[i])]))\n",
    "    plt.xticks([])\n",
    "    plt.yticks([])\n",
    "fig"
   ]
  },
  {
   "cell_type": "code",
   "execution_count": 44,
   "id": "6d4fe1f3-5273-43e8-83d7-d61dca141542",
   "metadata": {},
   "outputs": [
    {
     "name": "stdout",
     "output_type": "stream",
     "text": [
      "X_train shape (42749, 28, 28)\n",
      "y_train shape (42749,)\n",
      "X_test shape (5356, 28, 28)\n",
      "y_test shape (5356,)\n",
      "Train matrix shape (42749, 784)\n",
      "Test matrix shape (5356, 784)\n"
     ]
    }
   ],
   "source": [
    "# let's print the shape before we reshape and normalize\n",
    "print(\"X_train shape\", X_train.shape)\n",
    "print(\"y_train shape\", y_train.shape)\n",
    "print(\"X_test shape\", X_test.shape)\n",
    "print(\"y_test shape\", y_test.shape)\n",
    "\n",
    "# # building the input vector from the 128x128 pixels\n",
    "X_train = X_train.reshape(len(X_train), 28*28)\n",
    "X_test = X_test.reshape(len(X_test), 28*28)\n",
    "X_train = X_train.astype('float32')\n",
    "X_test = X_test.astype('float32')\n",
    "\n",
    "# normalizing the data to help with the training\n",
    "X_train /= 255\n",
    "X_test /= 255\n",
    "\n",
    "print(\"Train matrix shape\", X_train.shape)\n",
    "print(\"Test matrix shape\", X_test.shape)"
   ]
  },
  {
   "cell_type": "code",
   "execution_count": 45,
   "id": "22b69500-842b-4558-92c1-73027f6126f2",
   "metadata": {},
   "outputs": [],
   "source": [
    "n_classes = len(classes)\n",
    "Y_train = to_categorical(y_train, n_classes)\n",
    "Y_test = to_categorical(y_test, n_classes)"
   ]
  },
  {
   "cell_type": "code",
   "execution_count": 46,
   "id": "cf932fd2-e7b3-43e3-b0f7-71ae75e6f22c",
   "metadata": {},
   "outputs": [
    {
     "name": "stderr",
     "output_type": "stream",
     "text": [
      "/Users/kuba/Desktop/math-eq-recognition/env/lib/python3.11/site-packages/keras/src/layers/core/dense.py:87: UserWarning: Do not pass an `input_shape`/`input_dim` argument to a layer. When using Sequential models, prefer using an `Input(shape)` object as the first layer in the model instead.\n",
      "  super().__init__(activity_regularizer=activity_regularizer, **kwargs)\n"
     ]
    }
   ],
   "source": [
    "# building a linear stack of layers with the sequential model\n",
    "model = Sequential()\n",
    "model.add(Dense(512, input_shape=(784,)))\n",
    "model.add(Activation('relu'))                            \n",
    "model.add(Dropout(0.2))\n",
    "\n",
    "model.add(Dense(512))\n",
    "model.add(Activation('relu'))\n",
    "model.add(Dropout(0.2))\n",
    "\n",
    "model.add(Dense(n_classes))\n",
    "model.add(Activation('softmax'))"
   ]
  },
  {
   "cell_type": "code",
   "execution_count": 47,
   "id": "81214156-7807-4eb2-bb82-3409f2f49bf4",
   "metadata": {},
   "outputs": [],
   "source": [
    "model.compile(loss='categorical_crossentropy', metrics=['accuracy'], optimizer='adam')"
   ]
  },
  {
   "cell_type": "code",
   "execution_count": 48,
   "id": "3382b731-d463-4dca-b436-4b1d9f58736f",
   "metadata": {},
   "outputs": [
    {
     "name": "stdout",
     "output_type": "stream",
     "text": [
      "Epoch 1/100\n",
      "334/334 - 2s - 6ms/step - accuracy: 0.5053 - loss: 1.5740 - val_accuracy: 0.6292 - val_loss: 1.1970\n",
      "Epoch 2/100\n",
      "334/334 - 2s - 6ms/step - accuracy: 0.6363 - loss: 1.1551 - val_accuracy: 0.7121 - val_loss: 0.9581\n",
      "Epoch 3/100\n",
      "334/334 - 5s - 15ms/step - accuracy: 0.6898 - loss: 0.9954 - val_accuracy: 0.7560 - val_loss: 0.7996\n",
      "Epoch 4/100\n",
      "334/334 - 2s - 7ms/step - accuracy: 0.7193 - loss: 0.8925 - val_accuracy: 0.7659 - val_loss: 0.7504\n",
      "Epoch 5/100\n",
      "334/334 - 2s - 5ms/step - accuracy: 0.7421 - loss: 0.8198 - val_accuracy: 0.7849 - val_loss: 0.6659\n",
      "Epoch 6/100\n",
      "334/334 - 2s - 5ms/step - accuracy: 0.7571 - loss: 0.7685 - val_accuracy: 0.8152 - val_loss: 0.5948\n",
      "Epoch 7/100\n",
      "334/334 - 2s - 5ms/step - accuracy: 0.7687 - loss: 0.7348 - val_accuracy: 0.8226 - val_loss: 0.5885\n",
      "Epoch 8/100\n",
      "334/334 - 2s - 5ms/step - accuracy: 0.7817 - loss: 0.6946 - val_accuracy: 0.8458 - val_loss: 0.4978\n",
      "Epoch 9/100\n",
      "334/334 - 2s - 5ms/step - accuracy: 0.7959 - loss: 0.6447 - val_accuracy: 0.8344 - val_loss: 0.5262\n",
      "Epoch 10/100\n",
      "334/334 - 2s - 5ms/step - accuracy: 0.7927 - loss: 0.6460 - val_accuracy: 0.8361 - val_loss: 0.5384\n",
      "Epoch 11/100\n",
      "334/334 - 2s - 5ms/step - accuracy: 0.8049 - loss: 0.6141 - val_accuracy: 0.8519 - val_loss: 0.4880\n",
      "Epoch 12/100\n",
      "334/334 - 2s - 5ms/step - accuracy: 0.8151 - loss: 0.5865 - val_accuracy: 0.8687 - val_loss: 0.4274\n",
      "Epoch 13/100\n",
      "334/334 - 2s - 5ms/step - accuracy: 0.8176 - loss: 0.5744 - val_accuracy: 0.8555 - val_loss: 0.4552\n",
      "Epoch 14/100\n",
      "334/334 - 2s - 5ms/step - accuracy: 0.8235 - loss: 0.5514 - val_accuracy: 0.8663 - val_loss: 0.4287\n",
      "Epoch 15/100\n",
      "334/334 - 2s - 5ms/step - accuracy: 0.8287 - loss: 0.5335 - val_accuracy: 0.8702 - val_loss: 0.4117\n",
      "Epoch 16/100\n",
      "334/334 - 2s - 5ms/step - accuracy: 0.8317 - loss: 0.5225 - val_accuracy: 0.8764 - val_loss: 0.3989\n",
      "Epoch 17/100\n",
      "334/334 - 2s - 5ms/step - accuracy: 0.8305 - loss: 0.5254 - val_accuracy: 0.8835 - val_loss: 0.3708\n",
      "Epoch 18/100\n",
      "334/334 - 2s - 5ms/step - accuracy: 0.8406 - loss: 0.4968 - val_accuracy: 0.8706 - val_loss: 0.4127\n",
      "Epoch 19/100\n",
      "334/334 - 2s - 5ms/step - accuracy: 0.8376 - loss: 0.5014 - val_accuracy: 0.8928 - val_loss: 0.3626\n",
      "Epoch 20/100\n",
      "334/334 - 2s - 5ms/step - accuracy: 0.8429 - loss: 0.4839 - val_accuracy: 0.8839 - val_loss: 0.3689\n",
      "Epoch 21/100\n",
      "334/334 - 2s - 5ms/step - accuracy: 0.8469 - loss: 0.4738 - val_accuracy: 0.8837 - val_loss: 0.3746\n",
      "Epoch 22/100\n",
      "334/334 - 2s - 5ms/step - accuracy: 0.8494 - loss: 0.4694 - val_accuracy: 0.8865 - val_loss: 0.3608\n",
      "Epoch 23/100\n",
      "334/334 - 2s - 5ms/step - accuracy: 0.8497 - loss: 0.4638 - val_accuracy: 0.8912 - val_loss: 0.3512\n",
      "Epoch 24/100\n",
      "334/334 - 2s - 5ms/step - accuracy: 0.8533 - loss: 0.4544 - val_accuracy: 0.8973 - val_loss: 0.3380\n",
      "Epoch 25/100\n",
      "334/334 - 2s - 6ms/step - accuracy: 0.8583 - loss: 0.4418 - val_accuracy: 0.8960 - val_loss: 0.3330\n",
      "Epoch 26/100\n",
      "334/334 - 2s - 6ms/step - accuracy: 0.8577 - loss: 0.4423 - val_accuracy: 0.8932 - val_loss: 0.3352\n",
      "Epoch 27/100\n",
      "334/334 - 2s - 5ms/step - accuracy: 0.8588 - loss: 0.4338 - val_accuracy: 0.8915 - val_loss: 0.3340\n",
      "Epoch 28/100\n",
      "334/334 - 2s - 5ms/step - accuracy: 0.8589 - loss: 0.4345 - val_accuracy: 0.8982 - val_loss: 0.3142\n",
      "Epoch 29/100\n",
      "334/334 - 2s - 5ms/step - accuracy: 0.8595 - loss: 0.4297 - val_accuracy: 0.8990 - val_loss: 0.3282\n",
      "Epoch 30/100\n",
      "334/334 - 2s - 5ms/step - accuracy: 0.8643 - loss: 0.4225 - val_accuracy: 0.9033 - val_loss: 0.3125\n",
      "Epoch 31/100\n",
      "334/334 - 2s - 5ms/step - accuracy: 0.8702 - loss: 0.4008 - val_accuracy: 0.9053 - val_loss: 0.3089\n",
      "Epoch 32/100\n",
      "334/334 - 2s - 5ms/step - accuracy: 0.8651 - loss: 0.4191 - val_accuracy: 0.9029 - val_loss: 0.2978\n",
      "Epoch 33/100\n",
      "334/334 - 2s - 5ms/step - accuracy: 0.8718 - loss: 0.3915 - val_accuracy: 0.9025 - val_loss: 0.3060\n",
      "Epoch 34/100\n",
      "334/334 - 2s - 5ms/step - accuracy: 0.8684 - loss: 0.4095 - val_accuracy: 0.8945 - val_loss: 0.3368\n",
      "Epoch 35/100\n",
      "334/334 - 2s - 5ms/step - accuracy: 0.8684 - loss: 0.4027 - val_accuracy: 0.9066 - val_loss: 0.2993\n",
      "Epoch 36/100\n",
      "334/334 - 2s - 5ms/step - accuracy: 0.8747 - loss: 0.3870 - val_accuracy: 0.9035 - val_loss: 0.3045\n",
      "Epoch 37/100\n",
      "334/334 - 2s - 5ms/step - accuracy: 0.8716 - loss: 0.3880 - val_accuracy: 0.9074 - val_loss: 0.2982\n",
      "Epoch 38/100\n",
      "334/334 - 2s - 5ms/step - accuracy: 0.8762 - loss: 0.3832 - val_accuracy: 0.9081 - val_loss: 0.2921\n",
      "Epoch 39/100\n",
      "334/334 - 2s - 5ms/step - accuracy: 0.8781 - loss: 0.3786 - val_accuracy: 0.9066 - val_loss: 0.2953\n",
      "Epoch 40/100\n",
      "334/334 - 2s - 5ms/step - accuracy: 0.8789 - loss: 0.3746 - val_accuracy: 0.9042 - val_loss: 0.3007\n",
      "Epoch 41/100\n",
      "334/334 - 2s - 5ms/step - accuracy: 0.8807 - loss: 0.3631 - val_accuracy: 0.9098 - val_loss: 0.2918\n",
      "Epoch 42/100\n",
      "334/334 - 2s - 5ms/step - accuracy: 0.8774 - loss: 0.3758 - val_accuracy: 0.9061 - val_loss: 0.2893\n",
      "Epoch 43/100\n",
      "334/334 - 2s - 5ms/step - accuracy: 0.8803 - loss: 0.3680 - val_accuracy: 0.9080 - val_loss: 0.2795\n",
      "Epoch 44/100\n",
      "334/334 - 2s - 5ms/step - accuracy: 0.8858 - loss: 0.3526 - val_accuracy: 0.9147 - val_loss: 0.2712\n",
      "Epoch 45/100\n",
      "334/334 - 2s - 5ms/step - accuracy: 0.8836 - loss: 0.3565 - val_accuracy: 0.9038 - val_loss: 0.3003\n",
      "Epoch 46/100\n",
      "334/334 - 2s - 5ms/step - accuracy: 0.8805 - loss: 0.3644 - val_accuracy: 0.9117 - val_loss: 0.2801\n",
      "Epoch 47/100\n",
      "334/334 - 2s - 5ms/step - accuracy: 0.8856 - loss: 0.3554 - val_accuracy: 0.9126 - val_loss: 0.2754\n",
      "Epoch 48/100\n",
      "334/334 - 2s - 5ms/step - accuracy: 0.8855 - loss: 0.3518 - val_accuracy: 0.9164 - val_loss: 0.2717\n",
      "Epoch 49/100\n",
      "334/334 - 2s - 5ms/step - accuracy: 0.8919 - loss: 0.3326 - val_accuracy: 0.9182 - val_loss: 0.2648\n",
      "Epoch 50/100\n",
      "334/334 - 2s - 5ms/step - accuracy: 0.8897 - loss: 0.3404 - val_accuracy: 0.9134 - val_loss: 0.2783\n",
      "Epoch 51/100\n",
      "334/334 - 2s - 5ms/step - accuracy: 0.8882 - loss: 0.3458 - val_accuracy: 0.9111 - val_loss: 0.2765\n",
      "Epoch 52/100\n",
      "334/334 - 2s - 5ms/step - accuracy: 0.8890 - loss: 0.3415 - val_accuracy: 0.9117 - val_loss: 0.2735\n",
      "Epoch 53/100\n",
      "334/334 - 2s - 5ms/step - accuracy: 0.8918 - loss: 0.3267 - val_accuracy: 0.9173 - val_loss: 0.2638\n",
      "Epoch 54/100\n",
      "334/334 - 2s - 5ms/step - accuracy: 0.8906 - loss: 0.3355 - val_accuracy: 0.9078 - val_loss: 0.2846\n",
      "Epoch 55/100\n",
      "334/334 - 2s - 5ms/step - accuracy: 0.8871 - loss: 0.3467 - val_accuracy: 0.9102 - val_loss: 0.2838\n",
      "Epoch 56/100\n",
      "334/334 - 2s - 5ms/step - accuracy: 0.8909 - loss: 0.3334 - val_accuracy: 0.9128 - val_loss: 0.2724\n",
      "Epoch 57/100\n",
      "334/334 - 2s - 6ms/step - accuracy: 0.8935 - loss: 0.3258 - val_accuracy: 0.9156 - val_loss: 0.2659\n",
      "Epoch 58/100\n",
      "334/334 - 2s - 5ms/step - accuracy: 0.8957 - loss: 0.3178 - val_accuracy: 0.9205 - val_loss: 0.2505\n",
      "Epoch 59/100\n",
      "334/334 - 2s - 5ms/step - accuracy: 0.8966 - loss: 0.3177 - val_accuracy: 0.9261 - val_loss: 0.2392\n",
      "Epoch 60/100\n",
      "334/334 - 2s - 5ms/step - accuracy: 0.8948 - loss: 0.3225 - val_accuracy: 0.9173 - val_loss: 0.2558\n",
      "Epoch 61/100\n",
      "334/334 - 2s - 5ms/step - accuracy: 0.8919 - loss: 0.3329 - val_accuracy: 0.9117 - val_loss: 0.2740\n",
      "Epoch 62/100\n",
      "334/334 - 2s - 5ms/step - accuracy: 0.8923 - loss: 0.3261 - val_accuracy: 0.9190 - val_loss: 0.2587\n",
      "Epoch 63/100\n",
      "334/334 - 2s - 5ms/step - accuracy: 0.8991 - loss: 0.3104 - val_accuracy: 0.9178 - val_loss: 0.2542\n",
      "Epoch 64/100\n",
      "334/334 - 2s - 5ms/step - accuracy: 0.8969 - loss: 0.3137 - val_accuracy: 0.9240 - val_loss: 0.2468\n",
      "Epoch 65/100\n",
      "334/334 - 2s - 5ms/step - accuracy: 0.8998 - loss: 0.3073 - val_accuracy: 0.9236 - val_loss: 0.2408\n",
      "Epoch 66/100\n",
      "334/334 - 2s - 5ms/step - accuracy: 0.9010 - loss: 0.3065 - val_accuracy: 0.9149 - val_loss: 0.2631\n",
      "Epoch 67/100\n",
      "334/334 - 2s - 5ms/step - accuracy: 0.8999 - loss: 0.3074 - val_accuracy: 0.9216 - val_loss: 0.2550\n",
      "Epoch 68/100\n",
      "334/334 - 2s - 5ms/step - accuracy: 0.8996 - loss: 0.3088 - val_accuracy: 0.9201 - val_loss: 0.2603\n",
      "Epoch 69/100\n",
      "334/334 - 2s - 5ms/step - accuracy: 0.8982 - loss: 0.3163 - val_accuracy: 0.9066 - val_loss: 0.2928\n",
      "Epoch 70/100\n",
      "334/334 - 2s - 5ms/step - accuracy: 0.8990 - loss: 0.3123 - val_accuracy: 0.9162 - val_loss: 0.2614\n",
      "Epoch 71/100\n",
      "334/334 - 2s - 5ms/step - accuracy: 0.9013 - loss: 0.3051 - val_accuracy: 0.9195 - val_loss: 0.2626\n",
      "Epoch 72/100\n",
      "334/334 - 2s - 5ms/step - accuracy: 0.9012 - loss: 0.3048 - val_accuracy: 0.9240 - val_loss: 0.2385\n",
      "Epoch 73/100\n",
      "334/334 - 2s - 5ms/step - accuracy: 0.9042 - loss: 0.2961 - val_accuracy: 0.9229 - val_loss: 0.2444\n",
      "Epoch 74/100\n",
      "334/334 - 2s - 5ms/step - accuracy: 0.9072 - loss: 0.2858 - val_accuracy: 0.9270 - val_loss: 0.2383\n",
      "Epoch 75/100\n",
      "334/334 - 2s - 5ms/step - accuracy: 0.9061 - loss: 0.2870 - val_accuracy: 0.9283 - val_loss: 0.2333\n",
      "Epoch 76/100\n",
      "334/334 - 2s - 5ms/step - accuracy: 0.9003 - loss: 0.3047 - val_accuracy: 0.9208 - val_loss: 0.2471\n",
      "Epoch 77/100\n",
      "334/334 - 2s - 5ms/step - accuracy: 0.9049 - loss: 0.2869 - val_accuracy: 0.9298 - val_loss: 0.2275\n",
      "Epoch 78/100\n",
      "334/334 - 2s - 5ms/step - accuracy: 0.9057 - loss: 0.2927 - val_accuracy: 0.9292 - val_loss: 0.2297\n",
      "Epoch 79/100\n",
      "334/334 - 2s - 5ms/step - accuracy: 0.9015 - loss: 0.3007 - val_accuracy: 0.9162 - val_loss: 0.2606\n",
      "Epoch 80/100\n",
      "334/334 - 2s - 5ms/step - accuracy: 0.9070 - loss: 0.2860 - val_accuracy: 0.9255 - val_loss: 0.2328\n",
      "Epoch 81/100\n",
      "334/334 - 2s - 5ms/step - accuracy: 0.9051 - loss: 0.2907 - val_accuracy: 0.9263 - val_loss: 0.2473\n",
      "Epoch 82/100\n",
      "334/334 - 2s - 5ms/step - accuracy: 0.9073 - loss: 0.2845 - val_accuracy: 0.9304 - val_loss: 0.2266\n",
      "Epoch 83/100\n",
      "334/334 - 2s - 5ms/step - accuracy: 0.9045 - loss: 0.2968 - val_accuracy: 0.9212 - val_loss: 0.2461\n",
      "Epoch 84/100\n",
      "334/334 - 2s - 5ms/step - accuracy: 0.9085 - loss: 0.2776 - val_accuracy: 0.9244 - val_loss: 0.2383\n",
      "Epoch 85/100\n",
      "334/334 - 2s - 5ms/step - accuracy: 0.9060 - loss: 0.2872 - val_accuracy: 0.9231 - val_loss: 0.2437\n",
      "Epoch 86/100\n",
      "334/334 - 2s - 5ms/step - accuracy: 0.9099 - loss: 0.2769 - val_accuracy: 0.9251 - val_loss: 0.2262\n",
      "Epoch 87/100\n",
      "334/334 - 2s - 5ms/step - accuracy: 0.9106 - loss: 0.2709 - val_accuracy: 0.9311 - val_loss: 0.2217\n",
      "Epoch 88/100\n",
      "334/334 - 2s - 5ms/step - accuracy: 0.9047 - loss: 0.2862 - val_accuracy: 0.9178 - val_loss: 0.2559\n",
      "Epoch 89/100\n",
      "334/334 - 2s - 5ms/step - accuracy: 0.9101 - loss: 0.2749 - val_accuracy: 0.9264 - val_loss: 0.2388\n",
      "Epoch 90/100\n",
      "334/334 - 2s - 5ms/step - accuracy: 0.9092 - loss: 0.2810 - val_accuracy: 0.9236 - val_loss: 0.2479\n",
      "Epoch 91/100\n",
      "334/334 - 2s - 5ms/step - accuracy: 0.9091 - loss: 0.2799 - val_accuracy: 0.9276 - val_loss: 0.2220\n",
      "Epoch 92/100\n",
      "334/334 - 2s - 5ms/step - accuracy: 0.9089 - loss: 0.2800 - val_accuracy: 0.9225 - val_loss: 0.2488\n",
      "Epoch 93/100\n",
      "334/334 - 2s - 5ms/step - accuracy: 0.9104 - loss: 0.2713 - val_accuracy: 0.9341 - val_loss: 0.2196\n",
      "Epoch 94/100\n",
      "334/334 - 2s - 5ms/step - accuracy: 0.9126 - loss: 0.2700 - val_accuracy: 0.9205 - val_loss: 0.2512\n",
      "Epoch 95/100\n",
      "334/334 - 2s - 5ms/step - accuracy: 0.9094 - loss: 0.2753 - val_accuracy: 0.9264 - val_loss: 0.2337\n",
      "Epoch 96/100\n",
      "334/334 - 2s - 5ms/step - accuracy: 0.9112 - loss: 0.2723 - val_accuracy: 0.9240 - val_loss: 0.2306\n",
      "Epoch 97/100\n",
      "334/334 - 2s - 5ms/step - accuracy: 0.9112 - loss: 0.2739 - val_accuracy: 0.9223 - val_loss: 0.2506\n",
      "Epoch 98/100\n",
      "334/334 - 2s - 5ms/step - accuracy: 0.9108 - loss: 0.2746 - val_accuracy: 0.9251 - val_loss: 0.2384\n",
      "Epoch 99/100\n",
      "334/334 - 2s - 5ms/step - accuracy: 0.9130 - loss: 0.2670 - val_accuracy: 0.9274 - val_loss: 0.2306\n",
      "Epoch 100/100\n",
      "334/334 - 2s - 5ms/step - accuracy: 0.9124 - loss: 0.2701 - val_accuracy: 0.9276 - val_loss: 0.2269\n"
     ]
    },
    {
     "name": "stderr",
     "output_type": "stream",
     "text": [
      "WARNING:absl:You are saving your model as an HDF5 file via `model.save()` or `keras.saving.save_model(model)`. This file format is considered legacy. We recommend using instead the native Keras format, e.g. `model.save('my_model.keras')` or `keras.saving.save_model(model, 'my_model.keras')`. \n"
     ]
    },
    {
     "name": "stdout",
     "output_type": "stream",
     "text": [
      "Saved trained model at ..models/classifier.h5 \n"
     ]
    }
   ],
   "source": [
    "# training the model and saving metrics in history\n",
    "history = model.fit(X_train, Y_train,\n",
    "          batch_size=128, epochs=100,\n",
    "          verbose=2,\n",
    "          validation_data=(X_test, Y_test))\n",
    "\n",
    "# saving the model\n",
    "save_dir = \"..models/\"\n",
    "model_name = 'classifier.h5'\n",
    "model_path = os.path.join(save_dir, model_name)\n",
    "model.save(model_path)\n",
    "print('Saved trained model at %s ' % model_path)"
   ]
  },
  {
   "cell_type": "code",
   "execution_count": null,
   "id": "e3763e68-9cfd-4b2c-aab3-cf0dfe79b2ec",
   "metadata": {},
   "outputs": [
    {
     "name": "stderr",
     "output_type": "stream",
     "text": [
      "WARNING:absl:Compiled the loaded model, but the compiled metrics have yet to be built. `model.compile_metrics` will be empty until you train or evaluate the model.\n"
     ]
    },
    {
     "name": "stdout",
     "output_type": "stream",
     "text": [
      "168/168 - 0s - 2ms/step - accuracy: 0.9229 - loss: 0.2458\n",
      "Test Loss 0.24575580656528473\n",
      "Test Accuracy 0.9228902459144592\n"
     ]
    }
   ],
   "source": [
    "classifier = load_model(\"..models/classifier.h5\")\n",
    "loss_and_metrics = classifier.evaluate(X_test, Y_test, verbose=2)\n",
    "\n",
    "print(\"Test Loss\", loss_and_metrics[0])\n",
    "print(\"Test Accuracy\", loss_and_metrics[1])"
   ]
  },
  {
   "cell_type": "code",
   "execution_count": null,
   "id": "1a96352f-f742-43dd-9d37-a20395aa4792",
   "metadata": {},
   "outputs": [
    {
     "name": "stderr",
     "output_type": "stream",
     "text": [
      "WARNING:absl:Compiled the loaded model, but the compiled metrics have yet to be built. `model.compile_metrics` will be empty until you train or evaluate the model.\n"
     ]
    },
    {
     "name": "stdout",
     "output_type": "stream",
     "text": [
      "\u001b[1m168/168\u001b[0m \u001b[32m━━━━━━━━━━━━━━━━━━━━\u001b[0m\u001b[37m\u001b[0m \u001b[1m0s\u001b[0m 968us/step\n",
      "\n",
      "4943  classified correctly\n",
      "413  classified incorrectly\n"
     ]
    },
    {
     "data": {
      "image/png": "[encoded data removed]",
      "text/plain": [
       "<Figure size 700x1400 with 9 Axes>"
      ]
     },
     "execution_count": 41,
     "metadata": {},
     "output_type": "execute_result"
    },
    {
     "data": {
      "image/png": "[encoded data removed]",
      "text/plain": [
       "<Figure size 700x1400 with 9 Axes>"
      ]
     },
     "metadata": {},
     "output_type": "display_data"
    }
   ],
   "source": [
    "# load the model and create predictions on the test set\n",
    "classifier = load_model(\"..models/classifier.h5\")\n",
    "predict_x=model.predict(X_test) \n",
    "predicted_classes=np.argmax(predict_x,axis=1)\n",
    "\n",
    "# see which we predicted correctly and which not\n",
    "correct_indices = np.nonzero(predicted_classes == y_test)[0]\n",
    "incorrect_indices = np.nonzero(predicted_classes != y_test)[0]\n",
    "print()\n",
    "print(len(correct_indices),\" classified correctly\")\n",
    "print(len(incorrect_indices),\" classified incorrectly\")\n",
    "\n",
    "# adapt figure size to accomodate 18 subplots\n",
    "plt.rcParams['figure.figsize'] = (7,14)\n",
    "\n",
    "figure_evaluation = plt.figure()\n",
    "\n",
    "# plot 9 correct predictions\n",
    "for i, correct in enumerate(correct_indices[:9]):\n",
    "    plt.subplot(6,3,i+1)\n",
    "    plt.imshow(X_test[correct].reshape(28,28), cmap='gray', interpolation='none')\n",
    "    predicted, target = rev_classes[predicted_classes[correct]], rev_classes[y_test[correct]]\n",
    "    plt.title(\n",
    "      \"Predicted: {}, Truth: {}\".format(predicted,target))\n",
    "    plt.xticks([])\n",
    "    plt.yticks([])\n",
    "\n",
    "# plot 9 incorrect predictions\n",
    "for i, incorrect in enumerate(incorrect_indices[30:9]):\n",
    "    plt.subplot(6,3,i+10)\n",
    "    plt.imshow(X_test[incorrect].reshape(28,28), cmap='gray', interpolation='none')\n",
    "    predicted, target = rev_classes[predicted_classes[incorrect]], rev_classes[y_test[incorrect]]\n",
    "    \n",
    "    plt.title(\n",
    "      \"Predicted {}, Truth: {}\".format(predicted, target))\n",
    "    plt.xticks([])\n",
    "    plt.yticks([])\n",
    "\n",
    "figure_evaluation"
   ]
  },
  {
   "cell_type": "code",
   "execution_count": null,
   "id": "918edb5e-d69b-4abb-825b-c325340d37ec",
   "metadata": {},
   "outputs": [],
   "source": []
  }
 ],
 "metadata": {
  "kernelspec": {
   "display_name": "Python 3 (ipykernel)",
   "language": "python",
   "name": "python3"
  },
  "language_info": {
   "codemirror_mode": {
    "name": "ipython",
    "version": 3
   },
   "file_extension": ".py",
   "mimetype": "text/x-python",
   "name": "python",
   "nbconvert_exporter": "python",
   "pygments_lexer": "ipython3",
   "version": "3.11.1"
  }
 },
 "nbformat": 4,
 "nbformat_minor": 5
}
