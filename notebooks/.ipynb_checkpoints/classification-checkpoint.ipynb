{
 "cells": [
  {
   "cell_type": "code",
   "execution_count": 18,
   "id": "ecdd9bd7-65f0-4567-bb2c-bc73120564e4",
   "metadata": {},
   "outputs": [],
   "source": [
    "# imports for array-handling and plotting\n",
    "import numpy as np\n",
    "import matplotlib.pyplot as plt\n",
    "import os\n",
    "import cv2\n",
    "\n",
    "import os\n",
    "import numpy as np\n",
    "import keras\n",
    "from keras import layers\n",
    "import matplotlib.pyplot as plt\n",
    "from keras.models import Sequential, load_model\n",
    "from keras.layers import Dense, Dropout, Activation\n",
    "from keras.utils import to_categorical "
   ]
  },
  {
   "cell_type": "code",
   "execution_count": 19,
   "id": "461aa5c6-d329-4bcb-82b3-63b8cf886264",
   "metadata": {},
   "outputs": [],
   "source": [
    "classes = {'*': 0, '+': 1, '-': 2, '/': 3, '0': 4, '1': 5, '2': 6, '3': 7, '4': 8, '5': 9, '6': 10, '7': 11, '8': 12, '9': 13, '=': 14}\n",
    "rev_classes = {v:k for k, v in classes.items()}"
   ]
  },
  {
   "cell_type": "code",
   "execution_count": 38,
   "id": "24abaccc-7551-4640-8048-d9df1898f2a5",
   "metadata": {},
   "outputs": [],
   "source": [
    "def load_dataset(_type):\n",
    "    imgs, targets = [], []\n",
    "    symbols = {\"div\":\"/\", \"mul\":\"*\",\"eq\":\"=\", \"sub\":\"-\", \"add\":\"+\"}\n",
    "    size = (28, 28)\n",
    "\n",
    "    data_dir = f\"../data/{_type}\"\n",
    "    if not os.path.isdir(data_dir):\n",
    "        raise Exception(f\"'{data_dir}' does not exist. Current dirrectory: {os.getcwd()}\")\n",
    "    \n",
    "    for parent, dirs, files in os.walk(data_dir):\n",
    "        if not '/' in parent:\n",
    "            continue\n",
    "            \n",
    "        _, target = parent.rsplit(\"/\", 1)\n",
    "        if not target.isdigit() and target not in symbols:\n",
    "            continue\n",
    "    \n",
    "        for file in files:\n",
    "            im = cv2.imread(os.path.join(parent, file))\n",
    "            if im is None:\n",
    "                continue\n",
    "                \n",
    "            im = cv2.resize(im, dsize=size, interpolation=cv2.INTER_CUBIC)\n",
    "            im = cv2.cvtColor(im, cv2.COLOR_BGR2GRAY)\n",
    "                \n",
    "            imgs.append(im)\n",
    "            targets.append(classes[symbols.get(target, target)])\n",
    "\n",
    "    X = np.asarray(imgs, dtype=\"float32\")\n",
    "    Y = np.asarray(targets, dtype=\"uint8\")\n",
    "    return X, Y\n",
    "            "
   ]
  },
  {
   "cell_type": "code",
   "execution_count": 39,
   "id": "6955593e-a402-4954-a0a5-7c96b41400c0",
   "metadata": {},
   "outputs": [
    {
     "name": "stdout",
     "output_type": "stream",
     "text": [
      "LOAD\n",
      "../data/train\n",
      "../data/train\n",
      "../data/train/div\n",
      "../data/train/div\n",
      "../data/train/mul\n",
      "../data/train/mul\n",
      "../data/train/9\n",
      "../data/train/9\n",
      "../data/train/0\n",
      "../data/train/0\n",
      "../data/train/7\n",
      "../data/train/7\n",
      "../data/train/6\n",
      "../data/train/6\n",
      "../data/train/1\n",
      "../data/train/1\n",
      "../data/train/8\n",
      "../data/train/8\n",
      "../data/train/sub\n",
      "../data/train/sub\n",
      "../data/train/add\n",
      "../data/train/add\n",
      "../data/train/4\n",
      "../data/train/4\n",
      "../data/train/3\n",
      "../data/train/3\n",
      "../data/train/2\n",
      "../data/train/2\n",
      "../data/train/5\n",
      "../data/train/5\n",
      "LOAD\n",
      "../data/test\n",
      "../data/test\n",
      "../data/test/div\n",
      "../data/test/div\n",
      "../data/test/mul\n",
      "../data/test/mul\n",
      "../data/test/9\n",
      "../data/test/9\n",
      "../data/test/0\n",
      "../data/test/0\n",
      "../data/test/7\n",
      "../data/test/7\n",
      "../data/test/6\n",
      "../data/test/6\n",
      "../data/test/1\n",
      "../data/test/1\n",
      "../data/test/8\n",
      "../data/test/8\n",
      "../data/test/sub\n",
      "../data/test/sub\n",
      "../data/test/add\n",
      "../data/test/add\n",
      "../data/test/4\n",
      "../data/test/4\n",
      "../data/test/3\n",
      "../data/test/3\n",
      "../data/test/2\n",
      "../data/test/2\n",
      "../data/test/5\n",
      "../data/test/5\n"
     ]
    }
   ],
   "source": [
    "X_train, y_train = load_dataset(\"train\")\n",
    "X_test, y_test = load_dataset(\"test\")"
   ]
  },
  {
   "cell_type": "code",
   "execution_count": 22,
   "id": "04e10eac-f724-4358-905e-269ec235d6b6",
   "metadata": {},
   "outputs": [
    {
     "name": "stdout",
     "output_type": "stream",
     "text": [
      "(0,) (0,)\n"
     ]
    }
   ],
   "source": [
    "print(X_train.shape, y_train.shape)"
   ]
  },
  {
   "cell_type": "code",
   "execution_count": 17,
   "id": "1d3c9009-dac2-40f3-b156-5818924c72eb",
   "metadata": {},
   "outputs": [
    {
     "ename": "IndexError",
     "evalue": "index 0 is out of bounds for axis 0 with size 0",
     "output_type": "error",
     "traceback": [
      "\u001b[0;31m---------------------------------------------------------------------------\u001b[0m",
      "\u001b[0;31mIndexError\u001b[0m                                Traceback (most recent call last)",
      "Cell \u001b[0;32mIn[17], line 6\u001b[0m\n\u001b[1;32m      4\u001b[0m plt\u001b[38;5;241m.\u001b[39msubplot(\u001b[38;5;241m3\u001b[39m,\u001b[38;5;241m3\u001b[39m,i\u001b[38;5;241m+\u001b[39m\u001b[38;5;241m1\u001b[39m)\n\u001b[1;32m      5\u001b[0m plt\u001b[38;5;241m.\u001b[39mtight_layout()\n\u001b[0;32m----> 6\u001b[0m plt\u001b[38;5;241m.\u001b[39mimshow(\u001b[43mX_train\u001b[49m\u001b[43m[\u001b[49m\u001b[43mi\u001b[49m\u001b[43m]\u001b[49m, cmap\u001b[38;5;241m=\u001b[39m\u001b[38;5;124m'\u001b[39m\u001b[38;5;124mgray\u001b[39m\u001b[38;5;124m'\u001b[39m, interpolation\u001b[38;5;241m=\u001b[39m\u001b[38;5;124m'\u001b[39m\u001b[38;5;124mnone\u001b[39m\u001b[38;5;124m'\u001b[39m)\n\u001b[1;32m      7\u001b[0m plt\u001b[38;5;241m.\u001b[39mtitle(\u001b[38;5;124m\"\u001b[39m\u001b[38;5;124mDigit: \u001b[39m\u001b[38;5;132;01m{}\u001b[39;00m\u001b[38;5;124m\"\u001b[39m\u001b[38;5;241m.\u001b[39mformat(rev_classes[\u001b[38;5;28mint\u001b[39m(y_train[i])]))\n\u001b[1;32m      8\u001b[0m plt\u001b[38;5;241m.\u001b[39mxticks([])\n",
      "\u001b[0;31mIndexError\u001b[0m: index 0 is out of bounds for axis 0 with size 0"
     ]
    },
    {
     "data": {
      "image/png": "[encoded data removed]",
      "text/plain": [
       "<Figure size 640x480 with 1 Axes>"
      ]
     },
     "metadata": {},
     "output_type": "display_data"
    }
   ],
   "source": [
    "fig = plt.figure()\n",
    "for i in range(9):\n",
    "    \n",
    "    plt.subplot(3,3,i+1)\n",
    "    plt.tight_layout()\n",
    "    plt.imshow(X_train[i], cmap='gray', interpolation='none')\n",
    "    plt.title(\"Digit: {}\".format(rev_classes[int(y_train[i])]))\n",
    "    plt.xticks([])\n",
    "    plt.yticks([])\n",
    "fig"
   ]
  },
  {
   "cell_type": "code",
   "execution_count": 35,
   "id": "6d4fe1f3-5273-43e8-83d7-d61dca141542",
   "metadata": {},
   "outputs": [
    {
     "name": "stdout",
     "output_type": "stream",
     "text": [
      "X_train shape (42749, 28, 28)\n",
      "y_train shape (42749,)\n",
      "X_test shape (5356, 28, 28)\n",
      "y_test shape (5356,)\n",
      "Train matrix shape (42749, 784)\n",
      "Test matrix shape (5356, 784)\n"
     ]
    }
   ],
   "source": [
    "# let's print the shape before we reshape and normalize\n",
    "print(\"X_train shape\", X_train.shape)\n",
    "print(\"y_train shape\", y_train.shape)\n",
    "print(\"X_test shape\", X_test.shape)\n",
    "print(\"y_test shape\", y_test.shape)\n",
    "\n",
    "# # building the input vector from the 128x128 pixels\n",
    "X_train = X_train.reshape(len(X_train), 28*28)\n",
    "X_test = X_test.reshape(len(X_test), 28*28)\n",
    "X_train = X_train.astype('float32')\n",
    "X_test = X_test.astype('float32')\n",
    "\n",
    "# normalizing the data to help with the training\n",
    "X_train /= 255\n",
    "X_test /= 255\n",
    "\n",
    "print(\"Train matrix shape\", X_train.shape)\n",
    "print(\"Test matrix shape\", X_test.shape)"
   ]
  },
  {
   "cell_type": "code",
   "execution_count": null,
   "id": "22b69500-842b-4558-92c1-73027f6126f2",
   "metadata": {},
   "outputs": [],
   "source": [
    "n_classes = len(classes)\n",
    "Y_train = to_categorical(y_train, n_classes)\n",
    "Y_test = to_categorical(y_test, n_classes)"
   ]
  },
  {
   "cell_type": "code",
   "execution_count": null,
   "id": "cf932fd2-e7b3-43e3-b0f7-71ae75e6f22c",
   "metadata": {},
   "outputs": [
    {
     "name": "stderr",
     "output_type": "stream",
     "text": [
      "/Users/kuba/Desktop/math-eq-recognition/env/lib/python3.11/site-packages/keras/src/layers/core/dense.py:87: UserWarning: Do not pass an `input_shape`/`input_dim` argument to a layer. When using Sequential models, prefer using an `Input(shape)` object as the first layer in the model instead.\n",
      "  super().__init__(activity_regularizer=activity_regularizer, **kwargs)\n"
     ]
    }
   ],
   "source": [
    "# building a linear stack of layers with the sequential model\n",
    "model = Sequential()\n",
    "model.add(Dense(512, input_shape=(784,)))\n",
    "model.add(Activation('relu'))                            \n",
    "model.add(Dropout(0.2))\n",
    "\n",
    "model.add(Dense(512))\n",
    "model.add(Activation('relu'))\n",
    "model.add(Dropout(0.2))\n",
    "\n",
    "model.add(Dense(n_classes))\n",
    "model.add(Activation('softmax'))"
   ]
  },
  {
   "cell_type": "code",
   "execution_count": 38,
   "id": "81214156-7807-4eb2-bb82-3409f2f49bf4",
   "metadata": {},
   "outputs": [],
   "source": [
    "model.compile(loss='categorical_crossentropy', metrics=['accuracy'], optimizer='adam')"
   ]
  },
  {
   "cell_type": "code",
   "execution_count": null,
   "id": "3382b731-d463-4dca-b436-4b1d9f58736f",
   "metadata": {},
   "outputs": [
    {
     "name": "stdout",
     "output_type": "stream",
     "text": [
      "Epoch 1/100\n",
      "334/334 - 2s - 7ms/step - accuracy: 0.5054 - loss: 1.5853 - val_accuracy: 0.6615 - val_loss: 1.1403\n",
      "Epoch 2/100\n",
      "334/334 - 2s - 5ms/step - accuracy: 0.6365 - loss: 1.1659 - val_accuracy: 0.7043 - val_loss: 0.9423\n",
      "Epoch 3/100\n",
      "334/334 - 2s - 5ms/step - accuracy: 0.6817 - loss: 1.0170 - val_accuracy: 0.7351 - val_loss: 0.8611\n",
      "Epoch 4/100\n",
      "334/334 - 2s - 5ms/step - accuracy: 0.7174 - loss: 0.9050 - val_accuracy: 0.7748 - val_loss: 0.7342\n",
      "Epoch 5/100\n",
      "334/334 - 2s - 5ms/step - accuracy: 0.7375 - loss: 0.8397 - val_accuracy: 0.7997 - val_loss: 0.6460\n",
      "Epoch 6/100\n",
      "334/334 - 2s - 6ms/step - accuracy: 0.7535 - loss: 0.7864 - val_accuracy: 0.8107 - val_loss: 0.6233\n",
      "Epoch 7/100\n",
      "334/334 - 2s - 6ms/step - accuracy: 0.7658 - loss: 0.7390 - val_accuracy: 0.8239 - val_loss: 0.5745\n",
      "Epoch 8/100\n",
      "334/334 - 2s - 5ms/step - accuracy: 0.7752 - loss: 0.7082 - val_accuracy: 0.8249 - val_loss: 0.5567\n",
      "Epoch 9/100\n",
      "334/334 - 2s - 5ms/step - accuracy: 0.7927 - loss: 0.6642 - val_accuracy: 0.8406 - val_loss: 0.5251\n",
      "Epoch 10/100\n",
      "334/334 - 2s - 5ms/step - accuracy: 0.7970 - loss: 0.6421 - val_accuracy: 0.8443 - val_loss: 0.4943\n",
      "Epoch 11/100\n",
      "334/334 - 2s - 6ms/step - accuracy: 0.8069 - loss: 0.6118 - val_accuracy: 0.8417 - val_loss: 0.5079\n",
      "Epoch 12/100\n",
      "334/334 - 2s - 6ms/step - accuracy: 0.8105 - loss: 0.5975 - val_accuracy: 0.8699 - val_loss: 0.4297\n",
      "Epoch 13/100\n",
      "334/334 - 2s - 6ms/step - accuracy: 0.8173 - loss: 0.5783 - val_accuracy: 0.8562 - val_loss: 0.4550\n",
      "Epoch 14/100\n",
      "334/334 - 2s - 6ms/step - accuracy: 0.8222 - loss: 0.5613 - val_accuracy: 0.8680 - val_loss: 0.4238\n",
      "Epoch 15/100\n",
      "334/334 - 2s - 7ms/step - accuracy: 0.8270 - loss: 0.5422 - val_accuracy: 0.8607 - val_loss: 0.4365\n",
      "Epoch 16/100\n",
      "334/334 - 2s - 5ms/step - accuracy: 0.8319 - loss: 0.5273 - val_accuracy: 0.8768 - val_loss: 0.4014\n",
      "Epoch 17/100\n",
      "334/334 - 2s - 5ms/step - accuracy: 0.8354 - loss: 0.5173 - val_accuracy: 0.8704 - val_loss: 0.4134\n",
      "Epoch 18/100\n",
      "334/334 - 2s - 5ms/step - accuracy: 0.8327 - loss: 0.5195 - val_accuracy: 0.8788 - val_loss: 0.3861\n",
      "Epoch 19/100\n",
      "334/334 - 2s - 6ms/step - accuracy: 0.8394 - loss: 0.4982 - val_accuracy: 0.8788 - val_loss: 0.3813\n",
      "Epoch 20/100\n",
      "334/334 - 2s - 5ms/step - accuracy: 0.8412 - loss: 0.4953 - val_accuracy: 0.8792 - val_loss: 0.3744\n",
      "Epoch 21/100\n",
      "334/334 - 2s - 5ms/step - accuracy: 0.8428 - loss: 0.4890 - val_accuracy: 0.8893 - val_loss: 0.3592\n",
      "Epoch 22/100\n",
      "334/334 - 2s - 5ms/step - accuracy: 0.8458 - loss: 0.4824 - val_accuracy: 0.8885 - val_loss: 0.3565\n",
      "Epoch 23/100\n",
      "334/334 - 2s - 5ms/step - accuracy: 0.8516 - loss: 0.4662 - val_accuracy: 0.8887 - val_loss: 0.3582\n",
      "Epoch 24/100\n",
      "334/334 - 2s - 5ms/step - accuracy: 0.8526 - loss: 0.4629 - val_accuracy: 0.8880 - val_loss: 0.3561\n",
      "Epoch 25/100\n",
      "334/334 - 2s - 5ms/step - accuracy: 0.8551 - loss: 0.4523 - val_accuracy: 0.9010 - val_loss: 0.3325\n",
      "Epoch 26/100\n",
      "334/334 - 2s - 5ms/step - accuracy: 0.8566 - loss: 0.4394 - val_accuracy: 0.8839 - val_loss: 0.3651\n",
      "Epoch 27/100\n",
      "334/334 - 2s - 5ms/step - accuracy: 0.8586 - loss: 0.4407 - val_accuracy: 0.8938 - val_loss: 0.3482\n",
      "Epoch 28/100\n",
      "334/334 - 2s - 5ms/step - accuracy: 0.8581 - loss: 0.4359 - val_accuracy: 0.8969 - val_loss: 0.3331\n",
      "Epoch 29/100\n",
      "334/334 - 2s - 5ms/step - accuracy: 0.8625 - loss: 0.4235 - val_accuracy: 0.8954 - val_loss: 0.3346\n",
      "Epoch 30/100\n",
      "334/334 - 2s - 5ms/step - accuracy: 0.8612 - loss: 0.4258 - val_accuracy: 0.9035 - val_loss: 0.3121\n",
      "Epoch 31/100\n",
      "334/334 - 2s - 6ms/step - accuracy: 0.8680 - loss: 0.4074 - val_accuracy: 0.8951 - val_loss: 0.3315\n",
      "Epoch 32/100\n",
      "334/334 - 2s - 5ms/step - accuracy: 0.8649 - loss: 0.4137 - val_accuracy: 0.9027 - val_loss: 0.3112\n",
      "Epoch 33/100\n",
      "334/334 - 2s - 5ms/step - accuracy: 0.8696 - loss: 0.4013 - val_accuracy: 0.8938 - val_loss: 0.3456\n",
      "Epoch 34/100\n",
      "334/334 - 2s - 5ms/step - accuracy: 0.8693 - loss: 0.4024 - val_accuracy: 0.8988 - val_loss: 0.3192\n",
      "Epoch 35/100\n",
      "334/334 - 2s - 5ms/step - accuracy: 0.8724 - loss: 0.3945 - val_accuracy: 0.9024 - val_loss: 0.3098\n",
      "Epoch 36/100\n",
      "334/334 - 2s - 6ms/step - accuracy: 0.8672 - loss: 0.4070 - val_accuracy: 0.9040 - val_loss: 0.3167\n",
      "Epoch 37/100\n",
      "334/334 - 2s - 5ms/step - accuracy: 0.8745 - loss: 0.3886 - val_accuracy: 0.9031 - val_loss: 0.3122\n",
      "Epoch 38/100\n",
      "334/334 - 2s - 5ms/step - accuracy: 0.8772 - loss: 0.3763 - val_accuracy: 0.9027 - val_loss: 0.3042\n",
      "Epoch 39/100\n",
      "334/334 - 2s - 6ms/step - accuracy: 0.8755 - loss: 0.3833 - val_accuracy: 0.9007 - val_loss: 0.3024\n",
      "Epoch 40/100\n",
      "334/334 - 2s - 5ms/step - accuracy: 0.8766 - loss: 0.3843 - val_accuracy: 0.8986 - val_loss: 0.3221\n",
      "Epoch 41/100\n",
      "334/334 - 2s - 5ms/step - accuracy: 0.8758 - loss: 0.3802 - val_accuracy: 0.9124 - val_loss: 0.2839\n",
      "Epoch 42/100\n",
      "334/334 - 2s - 5ms/step - accuracy: 0.8762 - loss: 0.3874 - val_accuracy: 0.9169 - val_loss: 0.2688\n",
      "Epoch 43/100\n",
      "334/334 - 2s - 5ms/step - accuracy: 0.8835 - loss: 0.3571 - val_accuracy: 0.9156 - val_loss: 0.2755\n",
      "Epoch 44/100\n",
      "334/334 - 2s - 6ms/step - accuracy: 0.8821 - loss: 0.3589 - val_accuracy: 0.9061 - val_loss: 0.3104\n",
      "Epoch 45/100\n",
      "334/334 - 2s - 5ms/step - accuracy: 0.8803 - loss: 0.3661 - val_accuracy: 0.9109 - val_loss: 0.2879\n",
      "Epoch 46/100\n",
      "334/334 - 2s - 5ms/step - accuracy: 0.8816 - loss: 0.3634 - val_accuracy: 0.9139 - val_loss: 0.2735\n",
      "Epoch 47/100\n",
      "334/334 - 2s - 5ms/step - accuracy: 0.8837 - loss: 0.3535 - val_accuracy: 0.9134 - val_loss: 0.2798\n",
      "Epoch 48/100\n",
      "334/334 - 2s - 5ms/step - accuracy: 0.8827 - loss: 0.3634 - val_accuracy: 0.9035 - val_loss: 0.2947\n",
      "Epoch 49/100\n",
      "334/334 - 2s - 5ms/step - accuracy: 0.8877 - loss: 0.3458 - val_accuracy: 0.9063 - val_loss: 0.2974\n",
      "Epoch 50/100\n",
      "334/334 - 2s - 5ms/step - accuracy: 0.8881 - loss: 0.3462 - val_accuracy: 0.9113 - val_loss: 0.2866\n",
      "Epoch 51/100\n",
      "334/334 - 2s - 5ms/step - accuracy: 0.8889 - loss: 0.3450 - val_accuracy: 0.9154 - val_loss: 0.2747\n",
      "Epoch 52/100\n",
      "334/334 - 2s - 5ms/step - accuracy: 0.8864 - loss: 0.3454 - val_accuracy: 0.9178 - val_loss: 0.2655\n",
      "Epoch 53/100\n",
      "334/334 - 2s - 6ms/step - accuracy: 0.8911 - loss: 0.3361 - val_accuracy: 0.9167 - val_loss: 0.2675\n",
      "Epoch 54/100\n",
      "334/334 - 2s - 5ms/step - accuracy: 0.8888 - loss: 0.3407 - val_accuracy: 0.9180 - val_loss: 0.2761\n",
      "Epoch 55/100\n",
      "334/334 - 2s - 5ms/step - accuracy: 0.8889 - loss: 0.3381 - val_accuracy: 0.9128 - val_loss: 0.2750\n",
      "Epoch 56/100\n",
      "334/334 - 2s - 5ms/step - accuracy: 0.8923 - loss: 0.3314 - val_accuracy: 0.9216 - val_loss: 0.2626\n",
      "Epoch 57/100\n",
      "334/334 - 2s - 5ms/step - accuracy: 0.8913 - loss: 0.3336 - val_accuracy: 0.9141 - val_loss: 0.2761\n",
      "Epoch 58/100\n",
      "334/334 - 2s - 5ms/step - accuracy: 0.8952 - loss: 0.3239 - val_accuracy: 0.9164 - val_loss: 0.2573\n",
      "Epoch 59/100\n",
      "334/334 - 2s - 5ms/step - accuracy: 0.8956 - loss: 0.3232 - val_accuracy: 0.9124 - val_loss: 0.2795\n",
      "Epoch 60/100\n",
      "334/334 - 2s - 5ms/step - accuracy: 0.8914 - loss: 0.3342 - val_accuracy: 0.9147 - val_loss: 0.2673\n",
      "Epoch 61/100\n",
      "334/334 - 2s - 5ms/step - accuracy: 0.8929 - loss: 0.3292 - val_accuracy: 0.9178 - val_loss: 0.2601\n",
      "Epoch 62/100\n",
      "334/334 - 2s - 6ms/step - accuracy: 0.8940 - loss: 0.3238 - val_accuracy: 0.9210 - val_loss: 0.2497\n",
      "Epoch 63/100\n",
      "334/334 - 2s - 6ms/step - accuracy: 0.8995 - loss: 0.3060 - val_accuracy: 0.9128 - val_loss: 0.2673\n",
      "Epoch 64/100\n",
      "334/334 - 2s - 5ms/step - accuracy: 0.8945 - loss: 0.3212 - val_accuracy: 0.9111 - val_loss: 0.2825\n",
      "Epoch 65/100\n",
      "334/334 - 2s - 6ms/step - accuracy: 0.8979 - loss: 0.3146 - val_accuracy: 0.9173 - val_loss: 0.2629\n",
      "Epoch 66/100\n",
      "334/334 - 2s - 5ms/step - accuracy: 0.8949 - loss: 0.3199 - val_accuracy: 0.9268 - val_loss: 0.2416\n",
      "Epoch 67/100\n",
      "334/334 - 2s - 6ms/step - accuracy: 0.8956 - loss: 0.3142 - val_accuracy: 0.9173 - val_loss: 0.2552\n",
      "Epoch 68/100\n",
      "334/334 - 2s - 6ms/step - accuracy: 0.8991 - loss: 0.3137 - val_accuracy: 0.9190 - val_loss: 0.2640\n",
      "Epoch 69/100\n",
      "334/334 - 2s - 6ms/step - accuracy: 0.8999 - loss: 0.3075 - val_accuracy: 0.9210 - val_loss: 0.2489\n",
      "Epoch 70/100\n",
      "334/334 - 2s - 6ms/step - accuracy: 0.9033 - loss: 0.2953 - val_accuracy: 0.9212 - val_loss: 0.2536\n",
      "Epoch 71/100\n",
      "334/334 - 2s - 6ms/step - accuracy: 0.8998 - loss: 0.3079 - val_accuracy: 0.9158 - val_loss: 0.2583\n",
      "Epoch 72/100\n",
      "334/334 - 2s - 6ms/step - accuracy: 0.8974 - loss: 0.3157 - val_accuracy: 0.9139 - val_loss: 0.2734\n",
      "Epoch 73/100\n",
      "334/334 - 2s - 6ms/step - accuracy: 0.8967 - loss: 0.3111 - val_accuracy: 0.9180 - val_loss: 0.2601\n",
      "Epoch 74/100\n",
      "334/334 - 2s - 5ms/step - accuracy: 0.9037 - loss: 0.2961 - val_accuracy: 0.9249 - val_loss: 0.2391\n",
      "Epoch 75/100\n",
      "334/334 - 2s - 5ms/step - accuracy: 0.9025 - loss: 0.3026 - val_accuracy: 0.9190 - val_loss: 0.2544\n",
      "Epoch 76/100\n",
      "334/334 - 2s - 5ms/step - accuracy: 0.9029 - loss: 0.2996 - val_accuracy: 0.9186 - val_loss: 0.2536\n",
      "Epoch 77/100\n",
      "334/334 - 2s - 5ms/step - accuracy: 0.9053 - loss: 0.2961 - val_accuracy: 0.9111 - val_loss: 0.2854\n",
      "Epoch 78/100\n",
      "334/334 - 2s - 6ms/step - accuracy: 0.9037 - loss: 0.3028 - val_accuracy: 0.9158 - val_loss: 0.2611\n",
      "Epoch 79/100\n",
      "334/334 - 2s - 5ms/step - accuracy: 0.9007 - loss: 0.3021 - val_accuracy: 0.9205 - val_loss: 0.2553\n",
      "Epoch 80/100\n",
      "334/334 - 2s - 6ms/step - accuracy: 0.9064 - loss: 0.2913 - val_accuracy: 0.9240 - val_loss: 0.2463\n",
      "Epoch 81/100\n",
      "334/334 - 2s - 5ms/step - accuracy: 0.9030 - loss: 0.2964 - val_accuracy: 0.9154 - val_loss: 0.2702\n",
      "Epoch 82/100\n",
      "334/334 - 2s - 5ms/step - accuracy: 0.9064 - loss: 0.2941 - val_accuracy: 0.9266 - val_loss: 0.2343\n",
      "Epoch 83/100\n",
      "334/334 - 2s - 5ms/step - accuracy: 0.9058 - loss: 0.2959 - val_accuracy: 0.9248 - val_loss: 0.2495\n",
      "Epoch 84/100\n",
      "334/334 - 2s - 5ms/step - accuracy: 0.9083 - loss: 0.2856 - val_accuracy: 0.9238 - val_loss: 0.2530\n",
      "Epoch 85/100\n",
      "334/334 - 2s - 5ms/step - accuracy: 0.9058 - loss: 0.2890 - val_accuracy: 0.9259 - val_loss: 0.2375\n",
      "Epoch 86/100\n",
      "334/334 - 2s - 6ms/step - accuracy: 0.9081 - loss: 0.2793 - val_accuracy: 0.9264 - val_loss: 0.2379\n",
      "Epoch 87/100\n",
      "334/334 - 2s - 5ms/step - accuracy: 0.9077 - loss: 0.2841 - val_accuracy: 0.9115 - val_loss: 0.2798\n",
      "Epoch 88/100\n",
      "334/334 - 2s - 5ms/step - accuracy: 0.9067 - loss: 0.2877 - val_accuracy: 0.9193 - val_loss: 0.2574\n",
      "Epoch 89/100\n",
      "334/334 - 2s - 5ms/step - accuracy: 0.9074 - loss: 0.2833 - val_accuracy: 0.9296 - val_loss: 0.2361\n",
      "Epoch 90/100\n",
      "334/334 - 2s - 5ms/step - accuracy: 0.9071 - loss: 0.2861 - val_accuracy: 0.9212 - val_loss: 0.2564\n",
      "Epoch 91/100\n",
      "334/334 - 2s - 5ms/step - accuracy: 0.9068 - loss: 0.2821 - val_accuracy: 0.9298 - val_loss: 0.2374\n",
      "Epoch 92/100\n",
      "334/334 - 2s - 5ms/step - accuracy: 0.9080 - loss: 0.2882 - val_accuracy: 0.9173 - val_loss: 0.2496\n",
      "Epoch 93/100\n",
      "334/334 - 2s - 5ms/step - accuracy: 0.9104 - loss: 0.2741 - val_accuracy: 0.9169 - val_loss: 0.2589\n",
      "Epoch 94/100\n",
      "334/334 - 2s - 5ms/step - accuracy: 0.9109 - loss: 0.2743 - val_accuracy: 0.9272 - val_loss: 0.2279\n",
      "Epoch 95/100\n",
      "334/334 - 2s - 5ms/step - accuracy: 0.9106 - loss: 0.2783 - val_accuracy: 0.9264 - val_loss: 0.2325\n",
      "Epoch 96/100\n",
      "334/334 - 2s - 5ms/step - accuracy: 0.9100 - loss: 0.2743 - val_accuracy: 0.9240 - val_loss: 0.2401\n",
      "Epoch 97/100\n",
      "334/334 - 2s - 5ms/step - accuracy: 0.9122 - loss: 0.2703 - val_accuracy: 0.9274 - val_loss: 0.2339\n",
      "Epoch 98/100\n",
      "334/334 - 2s - 5ms/step - accuracy: 0.9077 - loss: 0.2874 - val_accuracy: 0.9149 - val_loss: 0.2689\n",
      "Epoch 99/100\n",
      "334/334 - 2s - 5ms/step - accuracy: 0.9100 - loss: 0.2709 - val_accuracy: 0.9253 - val_loss: 0.2401\n",
      "Epoch 100/100\n",
      "334/334 - 2s - 5ms/step - accuracy: 0.9136 - loss: 0.2633 - val_accuracy: 0.9229 - val_loss: 0.2458\n"
     ]
    },
    {
     "name": "stderr",
     "output_type": "stream",
     "text": [
      "WARNING:absl:You are saving your model as an HDF5 file via `model.save()` or `keras.saving.save_model(model)`. This file format is considered legacy. We recommend using instead the native Keras format, e.g. `model.save('my_model.keras')` or `keras.saving.save_model(model, 'my_model.keras')`. \n"
     ]
    },
    {
     "name": "stdout",
     "output_type": "stream",
     "text": [
      "Saved trained model at results/keras_mnist.h5 \n"
     ]
    },
    {
     "ename": "KeyError",
     "evalue": "'acc'",
     "output_type": "error",
     "traceback": [
      "\u001b[0;31m---------------------------------------------------------------------------\u001b[0m",
      "\u001b[0;31mKeyError\u001b[0m                                  Traceback (most recent call last)",
      "Cell \u001b[0;32mIn[39], line 17\u001b[0m\n\u001b[1;32m     15\u001b[0m fig \u001b[38;5;241m=\u001b[39m plt\u001b[38;5;241m.\u001b[39mfigure()\n\u001b[1;32m     16\u001b[0m plt\u001b[38;5;241m.\u001b[39msubplot(\u001b[38;5;241m2\u001b[39m,\u001b[38;5;241m1\u001b[39m,\u001b[38;5;241m1\u001b[39m)\n\u001b[0;32m---> 17\u001b[0m plt\u001b[38;5;241m.\u001b[39mplot(\u001b[43mhistory\u001b[49m\u001b[38;5;241;43m.\u001b[39;49m\u001b[43mhistory\u001b[49m\u001b[43m[\u001b[49m\u001b[38;5;124;43m'\u001b[39;49m\u001b[38;5;124;43macc\u001b[39;49m\u001b[38;5;124;43m'\u001b[39;49m\u001b[43m]\u001b[49m)\n\u001b[1;32m     18\u001b[0m plt\u001b[38;5;241m.\u001b[39mplot(history\u001b[38;5;241m.\u001b[39mhistory[\u001b[38;5;124m'\u001b[39m\u001b[38;5;124mval_acc\u001b[39m\u001b[38;5;124m'\u001b[39m])\n\u001b[1;32m     19\u001b[0m plt\u001b[38;5;241m.\u001b[39mtitle(\u001b[38;5;124m'\u001b[39m\u001b[38;5;124mmodel accuracy\u001b[39m\u001b[38;5;124m'\u001b[39m)\n",
      "\u001b[0;31mKeyError\u001b[0m: 'acc'"
     ]
    },
    {
     "data": {
      "image/png": "[encoded data removed]",
      "text/plain": [
       "<Figure size 640x480 with 1 Axes>"
      ]
     },
     "metadata": {},
     "output_type": "display_data"
    }
   ],
   "source": [
    "# training the model and saving metrics in history\n",
    "history = model.fit(X_train, Y_train,\n",
    "          batch_size=128, epochs=100,\n",
    "          verbose=2,\n",
    "          validation_data=(X_test, Y_test))\n",
    "\n",
    "# saving the model\n",
    "save_dir = \"..models/\"\n",
    "model_name = 'classifier.h5'\n",
    "model_path = os.path.join(save_dir, model_name)\n",
    "model.save(model_path)\n",
    "print('Saved trained model at %s ' % model_path)"
   ]
  },
  {
   "cell_type": "code",
   "execution_count": null,
   "id": "e3763e68-9cfd-4b2c-aab3-cf0dfe79b2ec",
   "metadata": {},
   "outputs": [
    {
     "name": "stderr",
     "output_type": "stream",
     "text": [
      "WARNING:absl:Compiled the loaded model, but the compiled metrics have yet to be built. `model.compile_metrics` will be empty until you train or evaluate the model.\n"
     ]
    },
    {
     "name": "stdout",
     "output_type": "stream",
     "text": [
      "168/168 - 0s - 2ms/step - accuracy: 0.9229 - loss: 0.2458\n",
      "Test Loss 0.24575580656528473\n",
      "Test Accuracy 0.9228902459144592\n"
     ]
    }
   ],
   "source": [
    "classifier = load_model(\"..models/classifier.h5\")\n",
    "loss_and_metrics = classifier.evaluate(X_test, Y_test, verbose=2)\n",
    "\n",
    "print(\"Test Loss\", loss_and_metrics[0])\n",
    "print(\"Test Accuracy\", loss_and_metrics[1])"
   ]
  },
  {
   "cell_type": "code",
   "execution_count": null,
   "id": "1a96352f-f742-43dd-9d37-a20395aa4792",
   "metadata": {},
   "outputs": [
    {
     "name": "stderr",
     "output_type": "stream",
     "text": [
      "WARNING:absl:Compiled the loaded model, but the compiled metrics have yet to be built. `model.compile_metrics` will be empty until you train or evaluate the model.\n"
     ]
    },
    {
     "name": "stdout",
     "output_type": "stream",
     "text": [
      "\u001b[1m168/168\u001b[0m \u001b[32m━━━━━━━━━━━━━━━━━━━━\u001b[0m\u001b[37m\u001b[0m \u001b[1m0s\u001b[0m 968us/step\n",
      "\n",
      "4943  classified correctly\n",
      "413  classified incorrectly\n"
     ]
    },
    {
     "data": {
      "image/png": "[encoded data removed]",
      "text/plain": [
       "<Figure size 700x1400 with 9 Axes>"
      ]
     },
     "execution_count": 41,
     "metadata": {},
     "output_type": "execute_result"
    },
    {
     "data": {
      "image/png": "[encoded data removed]",
      "text/plain": [
       "<Figure size 700x1400 with 9 Axes>"
      ]
     },
     "metadata": {},
     "output_type": "display_data"
    }
   ],
   "source": [
    "# load the model and create predictions on the test set\n",
    "classifier = load_model(\"..models/classifier.h5\")\n",
    "predict_x=model.predict(X_test) \n",
    "predicted_classes=np.argmax(predict_x,axis=1)\n",
    "\n",
    "# see which we predicted correctly and which not\n",
    "correct_indices = np.nonzero(predicted_classes == y_test)[0]\n",
    "incorrect_indices = np.nonzero(predicted_classes != y_test)[0]\n",
    "print()\n",
    "print(len(correct_indices),\" classified correctly\")\n",
    "print(len(incorrect_indices),\" classified incorrectly\")\n",
    "\n",
    "# adapt figure size to accomodate 18 subplots\n",
    "plt.rcParams['figure.figsize'] = (7,14)\n",
    "\n",
    "figure_evaluation = plt.figure()\n",
    "\n",
    "# plot 9 correct predictions\n",
    "for i, correct in enumerate(correct_indices[:9]):\n",
    "    plt.subplot(6,3,i+1)\n",
    "    plt.imshow(X_test[correct].reshape(28,28), cmap='gray', interpolation='none')\n",
    "    predicted, target = rev_classes[predicted_classes[correct]], rev_classes[y_test[correct]]\n",
    "    plt.title(\n",
    "      \"Predicted: {}, Truth: {}\".format(predicted,target))\n",
    "    plt.xticks([])\n",
    "    plt.yticks([])\n",
    "\n",
    "# plot 9 incorrect predictions\n",
    "for i, incorrect in enumerate(incorrect_indices[30:9]):\n",
    "    plt.subplot(6,3,i+10)\n",
    "    plt.imshow(X_test[incorrect].reshape(28,28), cmap='gray', interpolation='none')\n",
    "    predicted, target = rev_classes[predicted_classes[incorrect]], rev_classes[y_test[incorrect]]\n",
    "    \n",
    "    plt.title(\n",
    "      \"Predicted {}, Truth: {}\".format(predicted, target))\n",
    "    plt.xticks([])\n",
    "    plt.yticks([])\n",
    "\n",
    "figure_evaluation"
   ]
  },
  {
   "cell_type": "code",
   "execution_count": null,
   "id": "918edb5e-d69b-4abb-825b-c325340d37ec",
   "metadata": {},
   "outputs": [],
   "source": []
  }
 ],
 "metadata": {
  "kernelspec": {
   "display_name": "Python 3 (ipykernel)",
   "language": "python",
   "name": "python3"
  },
  "language_info": {
   "codemirror_mode": {
    "name": "ipython",
    "version": 3
   },
   "file_extension": ".py",
   "mimetype": "text/x-python",
   "name": "python",
   "nbconvert_exporter": "python",
   "pygments_lexer": "ipython3",
   "version": "3.11.1"
  }
 },
 "nbformat": 4,
 "nbformat_minor": 5
}
